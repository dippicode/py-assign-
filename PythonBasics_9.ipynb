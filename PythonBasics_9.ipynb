{
  "nbformat": 4,
  "nbformat_minor": 0,
  "metadata": {
    "colab": {
      "name": "Python_Basic_Assignment_9.ipynb",
      "provenance": []
    },
    "kernelspec": {
      "name": "python3",
      "display_name": "Python 3"
    },
    "language_info": {
      "name": "python"
    }
  },
  "cells": [
    {
      "cell_type": "markdown",
      "metadata": {
        "id": "bAjN6y0-LFmS"
      },
      "source": [
        "1. To what does a relative path refer?\n",
        "2. What does an absolute path start with your operating system?\n",
        "3. What do the functions os.getcwd() and os.chdir() do?\n",
        "4. What are the . and .. folders?\n",
        "5. In C:\\bacon\\eggs\\spam.txt, which part is the dir name, and which part is the base name?\n",
        "6. What are the three “mode” arguments that can be passed to the open() function?\n",
        "7. What happens if an existing file is opened in write mode?\n",
        "8. How do you tell the difference between read() and readlines()?\n",
        "9. What data structure does a shelf value resemble?"
      ]
    },
    {
      "cell_type": "markdown",
      "metadata": {
        "id": "bBimHBCmMfDf"
      },
      "source": [
        "###1. To what does a relative path refer?\n",
        "\n",
        "Relative path is current directory. It is not from '/'. "
      ]
    },
    {
      "cell_type": "markdown",
      "metadata": {
        "id": "nWwSFIU-YCIs"
      },
      "source": [
        "###2. What does an absolute path start with your operating system?\n",
        "\n",
        "Absolute path start from root directory. First character is always /"
      ]
    },
    {
      "cell_type": "markdown",
      "metadata": {
        "id": "dSy2LdK4YXQc"
      },
      "source": [
        "###3. What do the functions os.getcwd() and os.chdir() do?\n",
        "\n",
        "os. getcwd() returns current working directory.\n",
        "\n",
        "os.chdir() changes the directory."
      ]
    },
    {
      "cell_type": "markdown",
      "metadata": {
        "id": "fxMTHp8tYoDp"
      },
      "source": [
        "##4. What are the . and .. folders?\n",
        "\n",
        "\n",
        ". represents the current directory \n",
        "\n",
        ".. represents parent directory."
      ]
    },
    {
      "cell_type": "markdown",
      "metadata": {
        "id": "d5vb6wpxZjzO"
      },
      "source": [
        "##5. In C:\\bacon\\eggs\\spam.txt, which part is the dir name, and which part is the base name?\n",
        "\n",
        "spam.txt is the directory name\n",
        "\n",
        "C:\\bacon\\eggs is base name"
      ]
    },
    {
      "cell_type": "markdown",
      "metadata": {
        "id": "SkE_55e8Z6Dm"
      },
      "source": [
        "##6. What are the three “mode” arguments that can be passed to the open() function?\n",
        "\n",
        "read mode- r\n",
        "\n",
        "\n",
        "write mode- w\n",
        "\n",
        "\n",
        "exclusive creation-x"
      ]
    },
    {
      "cell_type": "markdown",
      "metadata": {
        "id": "1tpueQlZaVTL"
      },
      "source": [
        "##7. What happens if an existing file is opened in write mode?\n",
        "\n",
        "Old content gets discarded from that file."
      ]
    },
    {
      "cell_type": "markdown",
      "metadata": {
        "id": "zJh9uG1NlRRU"
      },
      "source": [
        "##8. How do you tell the difference between read() and readlines()?\n",
        "\n",
        "read() reads  character from the current position of a cursor  and readlines() read entire file and store data in a list."
      ]
    },
    {
      "cell_type": "markdown",
      "metadata": {
        "id": "7_QDCOTWlyzM"
      },
      "source": [
        "##9.What data structure does a shelf value resemble?\n",
        "\n",
        "shelf value resemble dictionary value. It has keys and values."
      ]
    },
    {
      "cell_type": "code",
      "metadata": {
        "id": "1RmfSBgFLEj3"
      },
      "source": [
        ""
      ],
      "execution_count": null,
      "outputs": []
    }
  ]
}